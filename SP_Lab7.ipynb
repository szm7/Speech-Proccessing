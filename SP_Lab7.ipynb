{
  "nbformat": 4,
  "nbformat_minor": 0,
  "metadata": {
    "colab": {
      "provenance": []
    },
    "kernelspec": {
      "name": "python3",
      "display_name": "Python 3"
    },
    "language_info": {
      "name": "python"
    }
  },
  "cells": [
    {
      "cell_type": "code",
      "execution_count": 1,
      "metadata": {
        "id": "BxxeEKs1NA9z"
      },
      "outputs": [],
      "source": [
        "import numpy as np"
      ]
    },
    {
      "cell_type": "markdown",
      "source": [
        "initial_probs: This tells us the probability of starting in each hidden state. Here, we always start with the phoneme '/s/'.\n",
        "\n",
        "transition_probs: This tells us the probability of moving from one hidden state to another. For example, if we're currently at '/s/', there's an 80% chance we'll move to '/p/' next.\n",
        "\n",
        "emission_probs: This tells us the probability of observing a specific output given the current hidden state. For example, if we're at the phoneme '/s/', there's a 70% chance we'll observe 'Energy'."
      ],
      "metadata": {
        "id": "y8UkDb96NiXG"
      }
    },
    {
      "cell_type": "markdown",
      "source": [
        "How it Works:\n",
        "\n",
        "Start with the initial probabilities.\n",
        "\n",
        "Consider all possible transitions and emissions. For each step in the observation sequence, we calculate the probability of being in each hidden state and producing the observed output.\n",
        "\n",
        "Find the most likely path. We use algorithms (like the Viterbi algorithm) to find the sequence of hidden states that has the highest overall probability given the observations.\n"
      ],
      "metadata": {
        "id": "pJxkv2bCNpWu"
      }
    },
    {
      "cell_type": "code",
      "source": [
        "initial_probs = {\n",
        "    '/s/': 1.0,\n",
        "    '/p/': 0.0,\n",
        "    '/ie:/': 0.0,\n",
        "    '/tʃ/': 0.0\n",
        "}\n",
        "transition_probs = {\n",
        "    '/s/': {'/s/': 0.1, '/p/': 0.8, '/ie:/': 0.1, '/tʃ/': 0.0},\n",
        "    '/p/': {'/s/': 0.0, '/p/': 0.1, '/ie:/': 0.8, '/tʃ/': 0.1},\n",
        "    '/ie:/': {'/s/': 0.0, '/p/': 0.0, '/ie:/': 0.2, '/tʃ/': 0.8},\n",
        "    '/tʃ/': {'/s/': 0.2, '/p/': 0.0, '/ie:/': 0.0, '/tʃ/': 0.8}\n",
        "}\n",
        "emission_probs = {\n",
        "    '/s/': {'Energy': 0.7, 'Pitch': 0.2, 'Duration': 0.1},\n",
        "    '/p/': {'Energy': 0.5, 'Pitch': 0.3, 'Duration': 0.2},\n",
        "    '/ie:/': {'Energy': 0.3, 'Pitch': 0.5, 'Duration': 0.2},\n",
        "    '/tʃ/': {'Energy': 0.4, 'Pitch': 0.4, 'Duration': 0.2}\n",
        "}"
      ],
      "metadata": {
        "id": "j1ovjdQNNEJF"
      },
      "execution_count": 2,
      "outputs": []
    },
    {
      "cell_type": "code",
      "source": [
        "def display_matrices():\n",
        "    print(\"Initial Probabilities:\")\n",
        "    for phoneme, prob in initial_probs.items():\n",
        "        print(f\"{phoneme}: {prob}\")\n",
        "\n",
        "    print(\"\\nTransition Probabilities:\")\n",
        "    for from_phoneme, transitions in transition_probs.items():\n",
        "        print(f\"{from_phoneme}: {transitions}\")\n",
        "\n",
        "    print(\"\\nEmission Probabilities:\")\n",
        "    for phoneme, emissions in emission_probs.items():\n",
        "        print(f\"{phoneme}: {emissions}\")\n"
      ],
      "metadata": {
        "id": "xr3UhW_INIuv"
      },
      "execution_count": 3,
      "outputs": []
    },
    {
      "cell_type": "markdown",
      "source": [
        "Initialization: It starts with the initial probabilities (initial_probs) to choose the first phoneme in the sequence.\n",
        "\n",
        "Iteration: For a specified number of steps (3 in this case), it does the following:\n",
        "\n",
        "Emission: It selects an observation (Energy, Pitch, or Duration) based on the emission probabilities (emission_probs) for the current phoneme.\n",
        "\n",
        "Transition: It moves to the next phoneme in the sequence based on the transition probabilities (transition_probs) for the current phoneme.\n",
        "\n",
        "Output: It returns the generated phoneme sequence and observation sequence."
      ],
      "metadata": {
        "id": "W_2HcU2JN4M_"
      }
    },
    {
      "cell_type": "code",
      "source": [
        "def generate_sequence():\n",
        "    phonemes = list(initial_probs.keys())\n",
        "    current_phoneme = np.random.choice(phonemes, p=list(initial_probs.values()))\n",
        "    phoneme_sequence = [current_phoneme]\n",
        "    observation_sequence = []\n",
        "\n",
        "    for _ in range(3):\n",
        "        observation = np.random.choice(\n",
        "            ['Energy', 'Pitch', 'Duration'],\n",
        "            p=[\n",
        "                emission_probs[current_phoneme]['Energy'],\n",
        "                emission_probs[current_phoneme]['Pitch'],\n",
        "                emission_probs[current_phoneme]['Duration']\n",
        "            ]\n",
        "        )\n",
        "        observation_sequence.append(observation)\n",
        "\n",
        "        current_phoneme = np.random.choice(\n",
        "            phonemes,\n",
        "            p=[transition_probs[current_phoneme][next_phoneme] for next_phoneme in phonemes]\n",
        "        )\n",
        "        phoneme_sequence.append(current_phoneme)\n",
        "\n",
        "    return phoneme_sequence, observation_sequence"
      ],
      "metadata": {
        "id": "UydXWZFFNOMM"
      },
      "execution_count": 5,
      "outputs": []
    },
    {
      "cell_type": "code",
      "source": [
        "if __name__ == \"__main__\":\n",
        "    display_matrices()\n",
        "\n",
        "    phoneme_sequence, observation_sequence = generate_sequence()\n",
        "    print(\"\\nGenerated Phoneme Sequence:\")\n",
        "    print(phoneme_sequence)\n",
        "\n",
        "    print(\"\\nGenerated Observation Sequence:\")\n",
        "    print(observation_sequence)\n"
      ],
      "metadata": {
        "colab": {
          "base_uri": "https://localhost:8080/"
        },
        "id": "AORiCIpMNQcY",
        "outputId": "d2ef9889-4596-4e3e-9cde-09384c8b2bab"
      },
      "execution_count": 7,
      "outputs": [
        {
          "output_type": "stream",
          "name": "stdout",
          "text": [
            "Initial Probabilities:\n",
            "/s/: 1.0\n",
            "/p/: 0.0\n",
            "/ie:/: 0.0\n",
            "/tʃ/: 0.0\n",
            "\n",
            "Transition Probabilities:\n",
            "/s/: {'/s/': 0.1, '/p/': 0.8, '/ie:/': 0.1, '/tʃ/': 0.0}\n",
            "/p/: {'/s/': 0.0, '/p/': 0.1, '/ie:/': 0.8, '/tʃ/': 0.1}\n",
            "/ie:/: {'/s/': 0.0, '/p/': 0.0, '/ie:/': 0.2, '/tʃ/': 0.8}\n",
            "/tʃ/: {'/s/': 0.2, '/p/': 0.0, '/ie:/': 0.0, '/tʃ/': 0.8}\n",
            "\n",
            "Emission Probabilities:\n",
            "/s/: {'Energy': 0.7, 'Pitch': 0.2, 'Duration': 0.1}\n",
            "/p/: {'Energy': 0.5, 'Pitch': 0.3, 'Duration': 0.2}\n",
            "/ie:/: {'Energy': 0.3, 'Pitch': 0.5, 'Duration': 0.2}\n",
            "/tʃ/: {'Energy': 0.4, 'Pitch': 0.4, 'Duration': 0.2}\n",
            "\n",
            "Generated Phoneme Sequence:\n",
            "['/s/', '/p/', '/ie:/', '/tʃ/']\n",
            "\n",
            "Generated Observation Sequence:\n",
            "['Energy', 'Energy', 'Pitch']\n"
          ]
        }
      ]
    },
    {
      "cell_type": "markdown",
      "source": [
        "Given the observed acoustic features ['Energy', 'Energy', 'Pitch'], the Hidden Markov Model (HMM) inferred the most likely underlying phoneme sequence to be ['/s/', '/p/', '/ie:/', '/tʃ/']. This inference was made by considering the initial probabilities of each phoneme, the transition probabilities between phonemes, and the emission probabilities of acoustic features given each phoneme. While the generated phoneme sequence and the inferred phoneme sequence might not perfectly align due to the probabilistic nature of the model, the HMM aims to identify the most probable sequence of hidden states that could have produced the observed data. In this scenario, the HMM suggests that the observed acoustic features are most likely associated with the sequence of phonemes '/s/', '/p/', '/ie:/', and '/tʃ/'."
      ],
      "metadata": {
        "id": "hGxlj644OUm9"
      }
    },
    {
      "cell_type": "code",
      "source": [],
      "metadata": {
        "id": "6nyn8nxSNVrg"
      },
      "execution_count": null,
      "outputs": []
    }
  ]
}