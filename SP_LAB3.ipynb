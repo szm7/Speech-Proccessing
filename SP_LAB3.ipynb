{
  "nbformat": 4,
  "nbformat_minor": 0,
  "metadata": {
    "colab": {
      "provenance": []
    },
    "kernelspec": {
      "name": "python3",
      "display_name": "Python 3"
    },
    "language_info": {
      "name": "python"
    }
  },
  "cells": [
    {
      "cell_type": "code",
      "source": [],
      "metadata": {
        "id": "lspd1yWsGIOZ"
      },
      "execution_count": null,
      "outputs": []
    },
    {
      "cell_type": "code",
      "execution_count": 4,
      "metadata": {
        "id": "NKCFsAyVF0Vw"
      },
      "outputs": [],
      "source": [
        "import speech_recognition as sr"
      ]
    },
    {
      "cell_type": "code",
      "source": [
        "# Initialize recognizer\n",
        "recognizer = sr.Recognizer()\n",
        "\n",
        "# Load the audio file\n",
        "audio_file_path = \"/content/16-122828-0002.wav\""
      ],
      "metadata": {
        "id": "PDzBzmobGcLG"
      },
      "execution_count": 5,
      "outputs": []
    },
    {
      "cell_type": "code",
      "source": [
        "with sr.AudioFile(audio_file_path) as source:\n",
        "    print(\"Loading audio file...\")\n",
        "    audio = recognizer.record(source)\n",
        "\n",
        "# Recognize speech\n",
        "try:\n",
        "    print(\"Recognizing...\")\n",
        "    text = recognizer.recognize_google(audio)\n",
        "    print(f'Speech recognized: \"{text}\"')\n",
        "except sr.UnknownValueError:\n",
        "    print(\"Speech Recognition could not understand the audio, please try with a clearer file.\")\n",
        "except sr.RequestError as e:\n",
        "    print(f\"Could not request results; {e}\")"
      ],
      "metadata": {
        "colab": {
          "base_uri": "https://localhost:8080/"
        },
        "id": "kmJdGZipGNaV",
        "outputId": "343ff8ca-e91b-4b83-a997-618f55710143"
      },
      "execution_count": 6,
      "outputs": [
        {
          "output_type": "stream",
          "name": "stdout",
          "text": [
            "Loading audio file...\n",
            "Recognizing...\n",
            "Speech recognized: \"I believe you are just talking nonsense\"\n"
          ]
        }
      ]
    },
    {
      "cell_type": "code",
      "source": [],
      "metadata": {
        "id": "NOQNH4t5GfJB"
      },
      "execution_count": null,
      "outputs": []
    }
  ]
}